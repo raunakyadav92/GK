{
  "nbformat": 4,
  "nbformat_minor": 0,
  "metadata": {
    "colab": {
      "provenance": [],
      "authorship_tag": "ABX9TyPRrhLsb28vTKVfA+f3So9F",
      "include_colab_link": true
    },
    "kernelspec": {
      "name": "python3",
      "display_name": "Python 3"
    },
    "language_info": {
      "name": "python"
    }
  },
  "cells": [
    {
      "cell_type": "markdown",
      "metadata": {
        "id": "view-in-github",
        "colab_type": "text"
      },
      "source": [
        "<a href=\"https://colab.research.google.com/github/raunakyadav92/GK/blob/main/Gk.ipynb\" target=\"_parent\"><img src=\"https://colab.research.google.com/assets/colab-badge.svg\" alt=\"Open In Colab\"/></a>"
      ]
    },
    {
      "cell_type": "code",
      "execution_count": null,
      "metadata": {
        "id": "38rrU1PEP5XT"
      },
      "outputs": [],
      "source": [
        "questions = [\n",
        "    {\n",
        "        \"question\": \"Which is the largest continent?\",\n",
        "        \"options\": [\"Asia\", \"Africa\", \"Europe\", \"Australia\"],\n",
        "        \"answer\": \"Asia\"\n",
        "    },\n",
        "    {\n",
        "        \"question\": \"Who is known as the Father of the Computer?\",\n",
        "        \"options\": [\"Isaac Newton\", \"Albert Einstein\", \"Charles Babbage\", \"Thomas Edison\"],\n",
        "        \"answer\": \"Charles Babbage\"\n",
        "    },\n",
        "    {\n",
        "        \"question\": \"What is the capital of India?\",\n",
        "        \"options\": [\"Mumbai\", \"Delhi\", \"Chennai\", \"Kolkata\"],\n",
        "        \"answer\": \"Delhi\"\n",
        "    },\n",
        "    {\n",
        "        \"question\": \"Which planet is known as the Red Planet?\",\n",
        "        \"options\": [\"Venus\", \"Mars\", \"Jupiter\", \"Saturn\"],\n",
        "        \"answer\": \"Mars\"\n",
        "    },\n",
        "    {\n",
        "        \"question\": \"Which is the longest river in the world?\",\n",
        "        \"options\": [\"Nile\", \"Amazon\", \"Ganga\", \"Yangtze\"],\n",
        "        \"answer\": \"Nile\"\n",
        "    }\n",
        "]\n",
        "\n",
        "score = 0\n",
        "\n",
        "print(\"\\n🌍 Welcome to the General Knowledge Quiz! 🌍\\n\")\n",
        "\n",
        "for idx, q in enumerate(questions, 1):\n",
        "    print(f\"Q{idx}: {q['question']}\")\n",
        "    for opt_idx, option in enumerate(q[\"options\"], 1):\n",
        "        print(f\"{opt_idx}. {option}\")\n",
        "    user_ans = input(\"Your Answer (1-4): \")\n",
        "\n",
        "    if q[\"options\"][int(user_ans) - 1].lower() == q[\"answer\"].lower():\n",
        "        print(\"✅ Correct!\\n\")\n",
        "        score += 1\n",
        "    else:\n",
        "        print(f\"❌ Wrong! Correct Answer: {q['answer']}\\n\")\n",
        "\n",
        "print(f\"🏁 Your Final Score: {score}/{len(questions)}\")\n"
      ]
    }
  ]
}